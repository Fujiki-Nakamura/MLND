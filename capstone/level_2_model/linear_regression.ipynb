{
 "cells": [
  {
   "cell_type": "code",
   "execution_count": 1,
   "metadata": {
    "collapsed": true
   },
   "outputs": [],
   "source": [
    "import pandas as pd\n",
    "import matplotlib.pyplot as plt\n",
    "%matplotlib inline\n",
    "plt.style.use('ggplot')\n",
    "import numpy as np\n",
    "from IPython.core.display import display"
   ]
  },
  {
   "cell_type": "code",
   "execution_count": 25,
   "metadata": {
    "collapsed": false
   },
   "outputs": [],
   "source": [
    "nn_3_layer_v1_stacked = pd.read_csv('../3_layer_v1/result/stacked_preds.csv')\n",
    "nn_4_layer_v1_stacked = pd.read_csv('../4_layer_v1/result/stacked_preds.csv')\n",
    "xgb_v2_stacked = pd.read_csv('../xgb/xgb_v2/result/stacked_preds.csv')\n",
    "xgb_v3_stacked = pd.read_csv('../xgb/xgb_v3/result/stacked_preds.csv')"
   ]
  },
  {
   "cell_type": "code",
   "execution_count": 28,
   "metadata": {
    "collapsed": false
   },
   "outputs": [
    {
     "data": {
      "text/html": [
       "<div>\n",
       "<table border=\"1\" class=\"dataframe\">\n",
       "  <thead>\n",
       "    <tr style=\"text-align: right;\">\n",
       "      <th></th>\n",
       "      <th>3_layer_v1</th>\n",
       "      <th>4_layer_v1</th>\n",
       "      <th>xgb_v2</th>\n",
       "      <th>xgb_v3</th>\n",
       "    </tr>\n",
       "  </thead>\n",
       "  <tbody>\n",
       "    <tr>\n",
       "      <th>0</th>\n",
       "      <td>1880.244751</td>\n",
       "      <td>1777.215576</td>\n",
       "      <td>2020.957520</td>\n",
       "      <td>1935.697754</td>\n",
       "    </tr>\n",
       "    <tr>\n",
       "      <th>1</th>\n",
       "      <td>1478.206909</td>\n",
       "      <td>1415.820068</td>\n",
       "      <td>1762.734131</td>\n",
       "      <td>1759.895630</td>\n",
       "    </tr>\n",
       "    <tr>\n",
       "      <th>2</th>\n",
       "      <td>4049.240479</td>\n",
       "      <td>3789.947998</td>\n",
       "      <td>4593.607422</td>\n",
       "      <td>4663.526855</td>\n",
       "    </tr>\n",
       "    <tr>\n",
       "      <th>3</th>\n",
       "      <td>961.461609</td>\n",
       "      <td>973.076660</td>\n",
       "      <td>1008.679077</td>\n",
       "      <td>990.860962</td>\n",
       "    </tr>\n",
       "    <tr>\n",
       "      <th>4</th>\n",
       "      <td>3311.209717</td>\n",
       "      <td>3240.973145</td>\n",
       "      <td>3080.286133</td>\n",
       "      <td>3099.009277</td>\n",
       "    </tr>\n",
       "  </tbody>\n",
       "</table>\n",
       "</div>"
      ],
      "text/plain": [
       "    3_layer_v1   4_layer_v1       xgb_v2       xgb_v3\n",
       "0  1880.244751  1777.215576  2020.957520  1935.697754\n",
       "1  1478.206909  1415.820068  1762.734131  1759.895630\n",
       "2  4049.240479  3789.947998  4593.607422  4663.526855\n",
       "3   961.461609   973.076660  1008.679077   990.860962\n",
       "4  3311.209717  3240.973145  3080.286133  3099.009277"
      ]
     },
     "metadata": {},
     "output_type": "display_data"
    }
   ],
   "source": [
    "df_stacked = pd.DataFrame()\n",
    "df_stacked['3_layer_v1'] = nn_3_layer_v1_stacked['3_layer_v1']\n",
    "df_stacked['4_layer_v1'] = nn_4_layer_v1_stacked['4_layer_1']\n",
    "df_stacked['xgb_v2'] = xgb_v2_stacked['xgb_param#1_best_num_round']\n",
    "df_stacked['xgb_v3'] = xgb_v3_stacked['xgb_v3']\n",
    "display(df_stacked.head())"
   ]
  },
  {
   "cell_type": "code",
   "execution_count": 8,
   "metadata": {
    "collapsed": false
   },
   "outputs": [
    {
     "name": "stdout",
     "output_type": "stream",
     "text": [
      "1161.82930844\n",
      "1133.54058131\n"
     ]
    }
   ],
   "source": [
    "# single model cross validation mean\n",
    "print(pd.read_csv('../4_layer_v1/result/cross_validation.csv')['val_loss'].mean())\n",
    "print(pd.read_csv('../xgb/xgb_v3/result/cross_validation.csv')['val_mae'].mean())"
   ]
  },
  {
   "cell_type": "code",
   "execution_count": 12,
   "metadata": {
    "collapsed": false
   },
   "outputs": [
    {
     "name": "stdout",
     "output_type": "stream",
     "text": [
      "(188318,)\n"
     ]
    }
   ],
   "source": [
    "df_train = pd.read_csv('../data/train.csv')\n",
    "y = df_train['loss']\n",
    "print(y.shape)"
   ]
  },
  {
   "cell_type": "markdown",
   "metadata": {},
   "source": [
    "## Linear Regression"
   ]
  },
  {
   "cell_type": "code",
   "execution_count": 22,
   "metadata": {
    "collapsed": false
   },
   "outputs": [
    {
     "data": {
      "text/html": [
       "<div>\n",
       "<table border=\"1\" class=\"dataframe\">\n",
       "  <thead>\n",
       "    <tr style=\"text-align: right;\">\n",
       "      <th></th>\n",
       "      <th>val_mae</th>\n",
       "    </tr>\n",
       "  </thead>\n",
       "  <tbody>\n",
       "    <tr>\n",
       "      <th>1</th>\n",
       "      <td>1137.822194</td>\n",
       "    </tr>\n",
       "    <tr>\n",
       "      <th>2</th>\n",
       "      <td>1129.015768</td>\n",
       "    </tr>\n",
       "    <tr>\n",
       "      <th>3</th>\n",
       "      <td>1144.318087</td>\n",
       "    </tr>\n",
       "    <tr>\n",
       "      <th>4</th>\n",
       "      <td>1124.476541</td>\n",
       "    </tr>\n",
       "    <tr>\n",
       "      <th>5</th>\n",
       "      <td>1128.415376</td>\n",
       "    </tr>\n",
       "  </tbody>\n",
       "</table>\n",
       "</div>"
      ],
      "text/plain": [
       "       val_mae\n",
       "1  1137.822194\n",
       "2  1129.015768\n",
       "3  1144.318087\n",
       "4  1124.476541\n",
       "5  1128.415376"
      ]
     },
     "metadata": {},
     "output_type": "display_data"
    },
    {
     "name": "stdout",
     "output_type": "stream",
     "text": [
      "mean MAE on CV =  1132.80959329\n"
     ]
    }
   ],
   "source": [
    "# 5-Fold cross validation \n",
    "# L2 model: Linear Regression\n",
    "from sklearn.linear_model import LinearRegression\n",
    "from sklearn.metrics import mean_absolute_error\n",
    "from sklearn.model_selection import train_test_split\n",
    "from sklearn.model_selection import KFold\n",
    "\n",
    "# transformation for linear regression\n",
    "shift = 200\n",
    "X = df_stacked.values\n",
    "X_normed = np.log(X + shift)\n",
    "y_normed = np.log(y + shift)\n",
    "\n",
    "df_cross_validation = pd.DataFrame()\n",
    "\n",
    "kf = KFold(n_splits=5, shuffle=True, random_state=0)\n",
    "\n",
    "for i, (train_index, test_index) in enumerate(kf.split(X_normed), start=1):\n",
    "    X_train, X_val = X_normed[train_index], X_normed[test_index]\n",
    "    y_train, y_val = y_normed[train_index], y_normed[test_index]\n",
    "    \n",
    "    linear = LinearRegression()\n",
    "    linear.fit(X_train, y_train)\n",
    "    y_pred = linear.predict(X_val)\n",
    "    df_cross_validation.loc[i, 'val_mae'] = mean_absolute_error(np.exp(y_val), np.exp(y_pred))\n",
    "\n",
    "display(df_cross_validation)\n",
    "print('mean MAE on CV = ', df_cross_validation['val_mae'].mean())"
   ]
  },
  {
   "cell_type": "code",
   "execution_count": 29,
   "metadata": {
    "collapsed": false
   },
   "outputs": [
    {
     "data": {
      "text/html": [
       "<div>\n",
       "<table border=\"1\" class=\"dataframe\">\n",
       "  <thead>\n",
       "    <tr style=\"text-align: right;\">\n",
       "      <th></th>\n",
       "      <th>val_mae</th>\n",
       "    </tr>\n",
       "  </thead>\n",
       "  <tbody>\n",
       "    <tr>\n",
       "      <th>1</th>\n",
       "      <td>1135.742358</td>\n",
       "    </tr>\n",
       "    <tr>\n",
       "      <th>2</th>\n",
       "      <td>1126.563151</td>\n",
       "    </tr>\n",
       "    <tr>\n",
       "      <th>3</th>\n",
       "      <td>1141.394212</td>\n",
       "    </tr>\n",
       "    <tr>\n",
       "      <th>4</th>\n",
       "      <td>1122.388722</td>\n",
       "    </tr>\n",
       "    <tr>\n",
       "      <th>5</th>\n",
       "      <td>1125.811134</td>\n",
       "    </tr>\n",
       "  </tbody>\n",
       "</table>\n",
       "</div>"
      ],
      "text/plain": [
       "       val_mae\n",
       "1  1135.742358\n",
       "2  1126.563151\n",
       "3  1141.394212\n",
       "4  1122.388722\n",
       "5  1125.811134"
      ]
     },
     "metadata": {},
     "output_type": "display_data"
    },
    {
     "name": "stdout",
     "output_type": "stream",
     "text": [
      "mean MAE on CV =  1130.37991544\n"
     ]
    }
   ],
   "source": [
    "# 5-Fold cross validation \n",
    "# L2 model: Linear Regression\n",
    "from sklearn.linear_model import LinearRegression\n",
    "from sklearn.metrics import mean_absolute_error\n",
    "from sklearn.model_selection import train_test_split\n",
    "from sklearn.model_selection import KFold\n",
    "\n",
    "# transformation for linear regression\n",
    "shift = 200\n",
    "X = df_stacked.values\n",
    "X_normed = np.log(X + shift)\n",
    "y_normed = np.log(y + shift)\n",
    "\n",
    "df_cross_validation = pd.DataFrame()\n",
    "\n",
    "kf = KFold(n_splits=5, shuffle=True, random_state=0)\n",
    "\n",
    "for i, (train_index, test_index) in enumerate(kf.split(X_normed), start=1):\n",
    "    X_train, X_val = X_normed[train_index], X_normed[test_index]\n",
    "    y_train, y_val = y_normed[train_index], y_normed[test_index]\n",
    "    \n",
    "    linear = LinearRegression()\n",
    "    linear.fit(X_train, y_train)\n",
    "    y_pred = linear.predict(X_val)\n",
    "    df_cross_validation.loc[i, 'val_mae'] = mean_absolute_error(np.exp(y_val), np.exp(y_pred))\n",
    "\n",
    "display(df_cross_validation)\n",
    "print('mean MAE on CV = ', df_cross_validation['val_mae'].mean())"
   ]
  },
  {
   "cell_type": "markdown",
   "metadata": {},
   "source": [
    "## Test, L2 model: Linear Regression"
   ]
  },
  {
   "cell_type": "code",
   "execution_count": 30,
   "metadata": {
    "collapsed": true
   },
   "outputs": [],
   "source": [
    "nn_3_layer_v1_tmp = pd.read_csv('../3_layer_v1/result/temporal_preds.csv')\n",
    "nn_4_layer_v1_tmp = pd.read_csv('../4_layer_v1/result/temporal_preds.csv')\n",
    "xgb_v2_tmp = pd.read_csv('../xgb/xgb_v2/result/temporal_preds.csv')\n",
    "xgb_v3_tmp = pd.read_csv('../xgb/xgb_v3/result/temporal_preds.csv')"
   ]
  },
  {
   "cell_type": "code",
   "execution_count": 40,
   "metadata": {
    "collapsed": false
   },
   "outputs": [
    {
     "data": {
      "text/html": [
       "<div>\n",
       "<table border=\"1\" class=\"dataframe\">\n",
       "  <thead>\n",
       "    <tr style=\"text-align: right;\">\n",
       "      <th></th>\n",
       "      <th>3_layer_v1</th>\n",
       "      <th>4_layer_v1</th>\n",
       "      <th>xgb_v2</th>\n",
       "      <th>xgb_v3</th>\n",
       "    </tr>\n",
       "  </thead>\n",
       "  <tbody>\n",
       "    <tr>\n",
       "      <th>0</th>\n",
       "      <td>1322.473901</td>\n",
       "      <td>1403.631567</td>\n",
       "      <td>1486.560693</td>\n",
       "      <td>1463.680933</td>\n",
       "    </tr>\n",
       "    <tr>\n",
       "      <th>1</th>\n",
       "      <td>1689.630396</td>\n",
       "      <td>1693.291626</td>\n",
       "      <td>1989.209131</td>\n",
       "      <td>2014.644678</td>\n",
       "    </tr>\n",
       "    <tr>\n",
       "      <th>2</th>\n",
       "      <td>9212.710938</td>\n",
       "      <td>9132.435352</td>\n",
       "      <td>9519.208398</td>\n",
       "      <td>9523.435352</td>\n",
       "    </tr>\n",
       "    <tr>\n",
       "      <th>3</th>\n",
       "      <td>7582.271191</td>\n",
       "      <td>7518.699609</td>\n",
       "      <td>5942.946973</td>\n",
       "      <td>5828.549316</td>\n",
       "    </tr>\n",
       "    <tr>\n",
       "      <th>4</th>\n",
       "      <td>869.603357</td>\n",
       "      <td>851.640259</td>\n",
       "      <td>818.550183</td>\n",
       "      <td>822.485779</td>\n",
       "    </tr>\n",
       "  </tbody>\n",
       "</table>\n",
       "</div>"
      ],
      "text/plain": [
       "    3_layer_v1   4_layer_v1       xgb_v2       xgb_v3\n",
       "0  1322.473901  1403.631567  1486.560693  1463.680933\n",
       "1  1689.630396  1693.291626  1989.209131  2014.644678\n",
       "2  9212.710938  9132.435352  9519.208398  9523.435352\n",
       "3  7582.271191  7518.699609  5942.946973  5828.549316\n",
       "4   869.603357   851.640259   818.550183   822.485779"
      ]
     },
     "execution_count": 40,
     "metadata": {},
     "output_type": "execute_result"
    }
   ],
   "source": [
    "# average the temporal preds\n",
    "X_l1_test = pd.DataFrame()\n",
    "X_l1_test['3_layer_v1'] = nn_3_layer_v1_tmp[folds].mean(axis=1)\n",
    "X_l1_test['4_layer_v1'] = nn_4_layer_v1_tmp[folds].mean(axis=1)\n",
    "X_l1_test['xgb_v2'] = xgb_v2_tmp[folds].mean(axis=1)\n",
    "X_l1_test['xgb_v3'] = xgb_v3_tmp[folds].mean(axis=1)\n",
    "X_l1_test.head()"
   ]
  },
  {
   "cell_type": "code",
   "execution_count": 44,
   "metadata": {
    "collapsed": false
   },
   "outputs": [
    {
     "data": {
      "text/plain": [
       "array([[ 1322.47390137,  1403.63156738,  1486.56069336,  1463.68093262],\n",
       "       [ 1689.63039551,  1693.29162598,  1989.20913086,  2014.64467773],\n",
       "       [ 9212.7109375 ,  9132.43535156,  9519.20839844,  9523.43535156],\n",
       "       [ 7582.27119141,  7518.69960938,  5942.94697266,  5828.54931641],\n",
       "       [  869.60335693,   851.64025879,   818.55018311,   822.48577881]])"
      ]
     },
     "execution_count": 44,
     "metadata": {},
     "output_type": "execute_result"
    }
   ],
   "source": [
    "X_l1_test.values[:5]"
   ]
  },
  {
   "cell_type": "code",
   "execution_count": 46,
   "metadata": {
    "collapsed": false
   },
   "outputs": [
    {
     "name": "stdout",
     "output_type": "stream",
     "text": [
      "(125546,)\n"
     ]
    }
   ],
   "source": [
    "# train\n",
    "from sklearn.linear_model import LinearRegression\n",
    "from sklearn.metrics import mean_absolute_error\n",
    "from sklearn.model_selection import train_test_split\n",
    "\n",
    "# transformation for linear regression\n",
    "shift = 200\n",
    "X = df_stacked.values\n",
    "X_normed = np.log(X + shift)\n",
    "y_normed = np.log(y + shift)\n",
    "X_train = X_normed\n",
    "y_train = y_normed\n",
    "\n",
    "l2_linear = LinearRegression()\n",
    "l2_linear.fit(X_train, y_train)\n",
    "\n",
    "# predict\n",
    "y_pred = l2_linear.predict(X_l1_test.values)\n",
    "print(y_pred.shape)"
   ]
  },
  {
   "cell_type": "code",
   "execution_count": 54,
   "metadata": {
    "collapsed": false
   },
   "outputs": [
    {
     "data": {
      "text/plain": [
       "array([ 1456.99221562,  1941.43278329,  9402.76442125,  6069.17653924,\n",
       "         817.46513978])"
      ]
     },
     "metadata": {},
     "output_type": "display_data"
    }
   ],
   "source": [
    "# CSV export\n",
    "display(y_pred[:5])\n",
    "df_sample_submission = pd.read_csv('../data/sample_submission.csv')\n",
    "df_sample_submission['loss'] = y_pred\n",
    "df_sample_submission.to_csv('./result/submission.csv', index=False)"
   ]
  },
  {
   "cell_type": "code",
   "execution_count": null,
   "metadata": {
    "collapsed": true
   },
   "outputs": [],
   "source": []
  }
 ],
 "metadata": {
  "kernelspec": {
   "display_name": "Python 3",
   "language": "python",
   "name": "python3"
  },
  "language_info": {
   "codemirror_mode": {
    "name": "ipython",
    "version": 3
   },
   "file_extension": ".py",
   "mimetype": "text/x-python",
   "name": "python",
   "nbconvert_exporter": "python",
   "pygments_lexer": "ipython3",
   "version": "3.5.0"
  }
 },
 "nbformat": 4,
 "nbformat_minor": 2
}
